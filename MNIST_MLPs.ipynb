{
  "cells": [
    {
      "cell_type": "markdown",
      "metadata": {
        "id": "view-in-github",
        "colab_type": "text"
      },
      "source": [
        "<a href=\"https://colab.research.google.com/github/dineshRaja29/MLPinTensorFlowusingKeras/blob/main/MNIST_MLPs.ipynb\" target=\"_parent\"><img src=\"https://colab.research.google.com/assets/colab-badge.svg\" alt=\"Open In Colab\"/></a>"
      ]
    },
    {
      "cell_type": "markdown",
      "metadata": {
        "id": "UTJmsXnXQKbG"
      },
      "source": [
        "# MLP MODELS ON MNIST "
      ]
    },
    {
      "cell_type": "code",
      "execution_count": null,
      "metadata": {
        "collapsed": true,
        "id": "2UILABPAQKbH"
      },
      "outputs": [],
      "source": [
        "# if you keras is not using tensorflow as backend set \"KERAS_BACKEND=tensorflow\" use this command\n",
        "from keras.utils import np_utils \n",
        "from keras.datasets import mnist \n",
        "import seaborn as sns\n",
        "from keras.initializers import RandomNormal"
      ]
    },
    {
      "cell_type": "code",
      "execution_count": null,
      "metadata": {
        "collapsed": true,
        "id": "lOO-TM_7QKbM"
      },
      "outputs": [],
      "source": [
        "%matplotlib notebook\n",
        "%matplotlib inline\n",
        "\n",
        "import matplotlib.pyplot as plt\n",
        "import numpy as np\n",
        "import time\n",
        "# https://gist.github.com/greydanus/f6eee59eaf1d90fcb3b534a25362cea4\n",
        "# https://stackoverflow.com/a/14434334\n",
        "# this function is used to update the plots for each epoch and error\n",
        "\n",
        "def plt_dynamic(x, vy, ty):\n",
        "  print(\"inside of plt\")\n",
        "  plt.figure(figsize=(10,5))\n",
        "  plt.plot(x, vy, 'b', label=\"Validation Loss\")\n",
        "  plt.plot(x, ty, 'r', label=\"Train Loss\")\n",
        "  plt.xlabel('Epochs') \n",
        "  plt.ylabel('Binary Crossentropy Loss')\n",
        "  plt.title('\\nBinary Crossentropy Loss VS Epochs')\n",
        "  plt.legend()\n",
        "  plt.grid()\n",
        "  plt.show()\n",
        "  print(\"leaving the plt\")"
      ]
    },
    {
      "cell_type": "code",
      "execution_count": null,
      "metadata": {
        "collapsed": true,
        "id": "TKmYKnibQKbQ"
      },
      "outputs": [],
      "source": [
        "# the data, shuffled and split between train and test sets \n",
        "(X_train, y_train), (X_test, y_test) = mnist.load_data()"
      ]
    },
    {
      "cell_type": "code",
      "execution_count": null,
      "metadata": {
        "colab": {
          "base_uri": "https://localhost:8080/",
          "height": 1042
        },
        "id": "CCwnZae-QKbT",
        "outputId": "9d27d41d-e387-4376-ebcd-dc407a4a35e0"
      },
      "outputs": [
        {
          "name": "stdout",
          "output_type": "stream",
          "text": [
            "Number of training examples : 60000 and each image is of shape (28, 28)\n",
            "Number of training examples : 10000 and each image is of shape (28, 28)\n",
            "sample one point is :: \n",
            " [[  0   0   0   0   0   0   0   0   0   0   0   0   0   0   0   0   0   0\n",
            "    0   0   0   0   0   0   0   0   0   0]\n",
            " [  0   0   0   0   0   0   0   0   0   0   0   0   0   0   0   0   0   0\n",
            "    0   0   0   0   0   0   0   0   0   0]\n",
            " [  0   0   0   0   0   0   0   0   0   0   0   0   0   0   0   0   0   0\n",
            "    0   0   0   0   0   0   0   0   0   0]\n",
            " [  0   0   0   0   0   0   0   0   0   0   0   0   0   0   0   0   0   0\n",
            "    0   0   0   0   0   0   0   0   0   0]\n",
            " [  0   0   0   0   0   0   0   0   0   0   0   0   0   0   0   0   0   0\n",
            "    0   0   0   0   0   0   0   0   0   0]\n",
            " [  0   0   0   0   0   0   0   0   0   0   0   0   3  18  18  18 126 136\n",
            "  175  26 166 255 247 127   0   0   0   0]\n",
            " [  0   0   0   0   0   0   0   0  30  36  94 154 170 253 253 253 253 253\n",
            "  225 172 253 242 195  64   0   0   0   0]\n",
            " [  0   0   0   0   0   0   0  49 238 253 253 253 253 253 253 253 253 251\n",
            "   93  82  82  56  39   0   0   0   0   0]\n",
            " [  0   0   0   0   0   0   0  18 219 253 253 253 253 253 198 182 247 241\n",
            "    0   0   0   0   0   0   0   0   0   0]\n",
            " [  0   0   0   0   0   0   0   0  80 156 107 253 253 205  11   0  43 154\n",
            "    0   0   0   0   0   0   0   0   0   0]\n",
            " [  0   0   0   0   0   0   0   0   0  14   1 154 253  90   0   0   0   0\n",
            "    0   0   0   0   0   0   0   0   0   0]\n",
            " [  0   0   0   0   0   0   0   0   0   0   0 139 253 190   2   0   0   0\n",
            "    0   0   0   0   0   0   0   0   0   0]\n",
            " [  0   0   0   0   0   0   0   0   0   0   0  11 190 253  70   0   0   0\n",
            "    0   0   0   0   0   0   0   0   0   0]\n",
            " [  0   0   0   0   0   0   0   0   0   0   0   0  35 241 225 160 108   1\n",
            "    0   0   0   0   0   0   0   0   0   0]\n",
            " [  0   0   0   0   0   0   0   0   0   0   0   0   0  81 240 253 253 119\n",
            "   25   0   0   0   0   0   0   0   0   0]\n",
            " [  0   0   0   0   0   0   0   0   0   0   0   0   0   0  45 186 253 253\n",
            "  150  27   0   0   0   0   0   0   0   0]\n",
            " [  0   0   0   0   0   0   0   0   0   0   0   0   0   0   0  16  93 252\n",
            "  253 187   0   0   0   0   0   0   0   0]\n",
            " [  0   0   0   0   0   0   0   0   0   0   0   0   0   0   0   0   0 249\n",
            "  253 249  64   0   0   0   0   0   0   0]\n",
            " [  0   0   0   0   0   0   0   0   0   0   0   0   0   0  46 130 183 253\n",
            "  253 207   2   0   0   0   0   0   0   0]\n",
            " [  0   0   0   0   0   0   0   0   0   0   0   0  39 148 229 253 253 253\n",
            "  250 182   0   0   0   0   0   0   0   0]\n",
            " [  0   0   0   0   0   0   0   0   0   0  24 114 221 253 253 253 253 201\n",
            "   78   0   0   0   0   0   0   0   0   0]\n",
            " [  0   0   0   0   0   0   0   0  23  66 213 253 253 253 253 198  81   2\n",
            "    0   0   0   0   0   0   0   0   0   0]\n",
            " [  0   0   0   0   0   0  18 171 219 253 253 253 253 195  80   9   0   0\n",
            "    0   0   0   0   0   0   0   0   0   0]\n",
            " [  0   0   0   0  55 172 226 253 253 253 253 244 133  11   0   0   0   0\n",
            "    0   0   0   0   0   0   0   0   0   0]\n",
            " [  0   0   0   0 136 253 253 253 212 135 132  16   0   0   0   0   0   0\n",
            "    0   0   0   0   0   0   0   0   0   0]\n",
            " [  0   0   0   0   0   0   0   0   0   0   0   0   0   0   0   0   0   0\n",
            "    0   0   0   0   0   0   0   0   0   0]\n",
            " [  0   0   0   0   0   0   0   0   0   0   0   0   0   0   0   0   0   0\n",
            "    0   0   0   0   0   0   0   0   0   0]\n",
            " [  0   0   0   0   0   0   0   0   0   0   0   0   0   0   0   0   0   0\n",
            "    0   0   0   0   0   0   0   0   0   0]]\n"
          ]
        }
      ],
      "source": [
        "print(\"Number of training examples :\", X_train.shape[0], \"and each image is of shape (%d, %d)\"%(X_train.shape[1], X_train.shape[2]))\n",
        "print(\"Number of training examples :\", X_test.shape[0], \"and each image is of shape (%d, %d)\"%(X_test.shape[1], X_test.shape[2]))\n",
        "print(\"sample one point is :: \\n\", X_train[0])"
      ]
    },
    {
      "cell_type": "code",
      "execution_count": null,
      "metadata": {
        "collapsed": true,
        "id": "BlotuCmoQKbW"
      },
      "outputs": [],
      "source": [
        "# if you observe the input shape its 2 dimensional vector\n",
        "# for each image we have a (28*28) vector\n",
        "# we will convert the (28*28) vector into single dimensional vector of 1 * 784 \n",
        "X_train = X_train.reshape(X_train.shape[0], X_train.shape[1]*X_train.shape[2]) \n",
        "X_test = X_test.reshape(X_test.shape[0], X_test.shape[1]*X_test.shape[2]) \n"
      ]
    },
    {
      "cell_type": "code",
      "execution_count": null,
      "metadata": {
        "colab": {
          "base_uri": "https://localhost:8080/",
          "height": 52
        },
        "id": "8JvpNJy4QKbY",
        "outputId": "acfec980-1cbb-40a2-bf6b-e66e7ee69e56"
      },
      "outputs": [
        {
          "name": "stdout",
          "output_type": "stream",
          "text": [
            "Number of training examples : 60000 and each image is of shape (784)\n",
            "Number of training examples : 10000 and each image is of shape (784)\n"
          ]
        }
      ],
      "source": [
        "# after converting the input images from 3d to 2d vectors\n",
        "\n",
        "print(\"Number of training examples :\", X_train.shape[0], \"and each image is of shape (%d)\"%(X_train.shape[1]))\n",
        "print(\"Number of training examples :\", X_test.shape[0], \"and each image is of shape (%d)\"%(X_test.shape[1]))"
      ]
    },
    {
      "cell_type": "code",
      "execution_count": null,
      "metadata": {
        "colab": {
          "base_uri": "https://localhost:8080/",
          "height": 781
        },
        "id": "qvuaHDk0QKbb",
        "outputId": "b1bdf56e-e6ad-43cd-844c-3c60ccd54a1c"
      },
      "outputs": [
        {
          "name": "stdout",
          "output_type": "stream",
          "text": [
            "[  0   0   0   0   0   0   0   0   0   0   0   0   0   0   0   0   0   0\n",
            "   0   0   0   0   0   0   0   0   0   0   0   0   0   0   0   0   0   0\n",
            "   0   0   0   0   0   0   0   0   0   0   0   0   0   0   0   0   0   0\n",
            "   0   0   0   0   0   0   0   0   0   0   0   0   0   0   0   0   0   0\n",
            "   0   0   0   0   0   0   0   0   0   0   0   0   0   0   0   0   0   0\n",
            "   0   0   0   0   0   0   0   0   0   0   0   0   0   0   0   0   0   0\n",
            "   0   0   0   0   0   0   0   0   0   0   0   0   0   0   0   0   0   0\n",
            "   0   0   0   0   0   0   0   0   0   0   0   0   0   0   0   0   0   0\n",
            "   0   0   0   0   0   0   0   0   3  18  18  18 126 136 175  26 166 255\n",
            " 247 127   0   0   0   0   0   0   0   0   0   0   0   0  30  36  94 154\n",
            " 170 253 253 253 253 253 225 172 253 242 195  64   0   0   0   0   0   0\n",
            "   0   0   0   0   0  49 238 253 253 253 253 253 253 253 253 251  93  82\n",
            "  82  56  39   0   0   0   0   0   0   0   0   0   0   0   0  18 219 253\n",
            " 253 253 253 253 198 182 247 241   0   0   0   0   0   0   0   0   0   0\n",
            "   0   0   0   0   0   0   0   0  80 156 107 253 253 205  11   0  43 154\n",
            "   0   0   0   0   0   0   0   0   0   0   0   0   0   0   0   0   0   0\n",
            "   0  14   1 154 253  90   0   0   0   0   0   0   0   0   0   0   0   0\n",
            "   0   0   0   0   0   0   0   0   0   0   0   0   0 139 253 190   2   0\n",
            "   0   0   0   0   0   0   0   0   0   0   0   0   0   0   0   0   0   0\n",
            "   0   0   0   0   0  11 190 253  70   0   0   0   0   0   0   0   0   0\n",
            "   0   0   0   0   0   0   0   0   0   0   0   0   0   0   0   0  35 241\n",
            " 225 160 108   1   0   0   0   0   0   0   0   0   0   0   0   0   0   0\n",
            "   0   0   0   0   0   0   0   0   0  81 240 253 253 119  25   0   0   0\n",
            "   0   0   0   0   0   0   0   0   0   0   0   0   0   0   0   0   0   0\n",
            "   0   0  45 186 253 253 150  27   0   0   0   0   0   0   0   0   0   0\n",
            "   0   0   0   0   0   0   0   0   0   0   0   0   0  16  93 252 253 187\n",
            "   0   0   0   0   0   0   0   0   0   0   0   0   0   0   0   0   0   0\n",
            "   0   0   0   0   0   0   0 249 253 249  64   0   0   0   0   0   0   0\n",
            "   0   0   0   0   0   0   0   0   0   0   0   0   0   0  46 130 183 253\n",
            " 253 207   2   0   0   0   0   0   0   0   0   0   0   0   0   0   0   0\n",
            "   0   0   0   0  39 148 229 253 253 253 250 182   0   0   0   0   0   0\n",
            "   0   0   0   0   0   0   0   0   0   0   0   0  24 114 221 253 253 253\n",
            " 253 201  78   0   0   0   0   0   0   0   0   0   0   0   0   0   0   0\n",
            "   0   0  23  66 213 253 253 253 253 198  81   2   0   0   0   0   0   0\n",
            "   0   0   0   0   0   0   0   0   0   0  18 171 219 253 253 253 253 195\n",
            "  80   9   0   0   0   0   0   0   0   0   0   0   0   0   0   0   0   0\n",
            "  55 172 226 253 253 253 253 244 133  11   0   0   0   0   0   0   0   0\n",
            "   0   0   0   0   0   0   0   0   0   0 136 253 253 253 212 135 132  16\n",
            "   0   0   0   0   0   0   0   0   0   0   0   0   0   0   0   0   0   0\n",
            "   0   0   0   0   0   0   0   0   0   0   0   0   0   0   0   0   0   0\n",
            "   0   0   0   0   0   0   0   0   0   0   0   0   0   0   0   0   0   0\n",
            "   0   0   0   0   0   0   0   0   0   0   0   0   0   0   0   0   0   0\n",
            "   0   0   0   0   0   0   0   0   0   0   0   0   0   0   0   0   0   0\n",
            "   0   0   0   0   0   0   0   0   0   0]\n"
          ]
        }
      ],
      "source": [
        "# An example data point\n",
        "print(X_train[0])"
      ]
    },
    {
      "cell_type": "code",
      "execution_count": null,
      "metadata": {
        "collapsed": true,
        "id": "lfohtdKPQKbd"
      },
      "outputs": [],
      "source": [
        "# if we observe the above matrix each cell is having a value between 0-255\n",
        "# before we move to apply machine learning algorithms lets try to normalize the data\n",
        "# X => (X - Xmin)/(Xmax-Xmin) = X/255\n",
        "\n",
        "X_train = X_train/255\n",
        "X_test = X_test/255"
      ]
    },
    {
      "cell_type": "code",
      "execution_count": null,
      "metadata": {
        "colab": {
          "base_uri": "https://localhost:8080/",
          "height": 2292
        },
        "id": "4C-dmsXJQKbf",
        "outputId": "97e6557b-8690-41ab-d596-ba4f927e8e99"
      },
      "outputs": [
        {
          "name": "stdout",
          "output_type": "stream",
          "text": [
            "[0.         0.         0.         0.         0.         0.\n",
            " 0.         0.         0.         0.         0.         0.\n",
            " 0.         0.         0.         0.         0.         0.\n",
            " 0.         0.         0.         0.         0.         0.\n",
            " 0.         0.         0.         0.         0.         0.\n",
            " 0.         0.         0.         0.         0.         0.\n",
            " 0.         0.         0.         0.         0.         0.\n",
            " 0.         0.         0.         0.         0.         0.\n",
            " 0.         0.         0.         0.         0.         0.\n",
            " 0.         0.         0.         0.         0.         0.\n",
            " 0.         0.         0.         0.         0.         0.\n",
            " 0.         0.         0.         0.         0.         0.\n",
            " 0.         0.         0.         0.         0.         0.\n",
            " 0.         0.         0.         0.         0.         0.\n",
            " 0.         0.         0.         0.         0.         0.\n",
            " 0.         0.         0.         0.         0.         0.\n",
            " 0.         0.         0.         0.         0.         0.\n",
            " 0.         0.         0.         0.         0.         0.\n",
            " 0.         0.         0.         0.         0.         0.\n",
            " 0.         0.         0.         0.         0.         0.\n",
            " 0.         0.         0.         0.         0.         0.\n",
            " 0.         0.         0.         0.         0.         0.\n",
            " 0.         0.         0.         0.         0.         0.\n",
            " 0.         0.         0.         0.         0.         0.\n",
            " 0.         0.         0.         0.         0.         0.\n",
            " 0.         0.         0.01176471 0.07058824 0.07058824 0.07058824\n",
            " 0.49411765 0.53333333 0.68627451 0.10196078 0.65098039 1.\n",
            " 0.96862745 0.49803922 0.         0.         0.         0.\n",
            " 0.         0.         0.         0.         0.         0.\n",
            " 0.         0.         0.11764706 0.14117647 0.36862745 0.60392157\n",
            " 0.66666667 0.99215686 0.99215686 0.99215686 0.99215686 0.99215686\n",
            " 0.88235294 0.6745098  0.99215686 0.94901961 0.76470588 0.25098039\n",
            " 0.         0.         0.         0.         0.         0.\n",
            " 0.         0.         0.         0.         0.         0.19215686\n",
            " 0.93333333 0.99215686 0.99215686 0.99215686 0.99215686 0.99215686\n",
            " 0.99215686 0.99215686 0.99215686 0.98431373 0.36470588 0.32156863\n",
            " 0.32156863 0.21960784 0.15294118 0.         0.         0.\n",
            " 0.         0.         0.         0.         0.         0.\n",
            " 0.         0.         0.         0.07058824 0.85882353 0.99215686\n",
            " 0.99215686 0.99215686 0.99215686 0.99215686 0.77647059 0.71372549\n",
            " 0.96862745 0.94509804 0.         0.         0.         0.\n",
            " 0.         0.         0.         0.         0.         0.\n",
            " 0.         0.         0.         0.         0.         0.\n",
            " 0.         0.         0.31372549 0.61176471 0.41960784 0.99215686\n",
            " 0.99215686 0.80392157 0.04313725 0.         0.16862745 0.60392157\n",
            " 0.         0.         0.         0.         0.         0.\n",
            " 0.         0.         0.         0.         0.         0.\n",
            " 0.         0.         0.         0.         0.         0.\n",
            " 0.         0.05490196 0.00392157 0.60392157 0.99215686 0.35294118\n",
            " 0.         0.         0.         0.         0.         0.\n",
            " 0.         0.         0.         0.         0.         0.\n",
            " 0.         0.         0.         0.         0.         0.\n",
            " 0.         0.         0.         0.         0.         0.\n",
            " 0.         0.54509804 0.99215686 0.74509804 0.00784314 0.\n",
            " 0.         0.         0.         0.         0.         0.\n",
            " 0.         0.         0.         0.         0.         0.\n",
            " 0.         0.         0.         0.         0.         0.\n",
            " 0.         0.         0.         0.         0.         0.04313725\n",
            " 0.74509804 0.99215686 0.2745098  0.         0.         0.\n",
            " 0.         0.         0.         0.         0.         0.\n",
            " 0.         0.         0.         0.         0.         0.\n",
            " 0.         0.         0.         0.         0.         0.\n",
            " 0.         0.         0.         0.         0.1372549  0.94509804\n",
            " 0.88235294 0.62745098 0.42352941 0.00392157 0.         0.\n",
            " 0.         0.         0.         0.         0.         0.\n",
            " 0.         0.         0.         0.         0.         0.\n",
            " 0.         0.         0.         0.         0.         0.\n",
            " 0.         0.         0.         0.31764706 0.94117647 0.99215686\n",
            " 0.99215686 0.46666667 0.09803922 0.         0.         0.\n",
            " 0.         0.         0.         0.         0.         0.\n",
            " 0.         0.         0.         0.         0.         0.\n",
            " 0.         0.         0.         0.         0.         0.\n",
            " 0.         0.         0.17647059 0.72941176 0.99215686 0.99215686\n",
            " 0.58823529 0.10588235 0.         0.         0.         0.\n",
            " 0.         0.         0.         0.         0.         0.\n",
            " 0.         0.         0.         0.         0.         0.\n",
            " 0.         0.         0.         0.         0.         0.\n",
            " 0.         0.0627451  0.36470588 0.98823529 0.99215686 0.73333333\n",
            " 0.         0.         0.         0.         0.         0.\n",
            " 0.         0.         0.         0.         0.         0.\n",
            " 0.         0.         0.         0.         0.         0.\n",
            " 0.         0.         0.         0.         0.         0.\n",
            " 0.         0.97647059 0.99215686 0.97647059 0.25098039 0.\n",
            " 0.         0.         0.         0.         0.         0.\n",
            " 0.         0.         0.         0.         0.         0.\n",
            " 0.         0.         0.         0.         0.         0.\n",
            " 0.         0.         0.18039216 0.50980392 0.71764706 0.99215686\n",
            " 0.99215686 0.81176471 0.00784314 0.         0.         0.\n",
            " 0.         0.         0.         0.         0.         0.\n",
            " 0.         0.         0.         0.         0.         0.\n",
            " 0.         0.         0.         0.         0.15294118 0.58039216\n",
            " 0.89803922 0.99215686 0.99215686 0.99215686 0.98039216 0.71372549\n",
            " 0.         0.         0.         0.         0.         0.\n",
            " 0.         0.         0.         0.         0.         0.\n",
            " 0.         0.         0.         0.         0.         0.\n",
            " 0.09411765 0.44705882 0.86666667 0.99215686 0.99215686 0.99215686\n",
            " 0.99215686 0.78823529 0.30588235 0.         0.         0.\n",
            " 0.         0.         0.         0.         0.         0.\n",
            " 0.         0.         0.         0.         0.         0.\n",
            " 0.         0.         0.09019608 0.25882353 0.83529412 0.99215686\n",
            " 0.99215686 0.99215686 0.99215686 0.77647059 0.31764706 0.00784314\n",
            " 0.         0.         0.         0.         0.         0.\n",
            " 0.         0.         0.         0.         0.         0.\n",
            " 0.         0.         0.         0.         0.07058824 0.67058824\n",
            " 0.85882353 0.99215686 0.99215686 0.99215686 0.99215686 0.76470588\n",
            " 0.31372549 0.03529412 0.         0.         0.         0.\n",
            " 0.         0.         0.         0.         0.         0.\n",
            " 0.         0.         0.         0.         0.         0.\n",
            " 0.21568627 0.6745098  0.88627451 0.99215686 0.99215686 0.99215686\n",
            " 0.99215686 0.95686275 0.52156863 0.04313725 0.         0.\n",
            " 0.         0.         0.         0.         0.         0.\n",
            " 0.         0.         0.         0.         0.         0.\n",
            " 0.         0.         0.         0.         0.53333333 0.99215686\n",
            " 0.99215686 0.99215686 0.83137255 0.52941176 0.51764706 0.0627451\n",
            " 0.         0.         0.         0.         0.         0.\n",
            " 0.         0.         0.         0.         0.         0.\n",
            " 0.         0.         0.         0.         0.         0.\n",
            " 0.         0.         0.         0.         0.         0.\n",
            " 0.         0.         0.         0.         0.         0.\n",
            " 0.         0.         0.         0.         0.         0.\n",
            " 0.         0.         0.         0.         0.         0.\n",
            " 0.         0.         0.         0.         0.         0.\n",
            " 0.         0.         0.         0.         0.         0.\n",
            " 0.         0.         0.         0.         0.         0.\n",
            " 0.         0.         0.         0.         0.         0.\n",
            " 0.         0.         0.         0.         0.         0.\n",
            " 0.         0.         0.         0.         0.         0.\n",
            " 0.         0.         0.         0.         0.         0.\n",
            " 0.         0.         0.         0.         0.         0.\n",
            " 0.         0.         0.         0.         0.         0.\n",
            " 0.         0.         0.         0.        ]\n"
          ]
        }
      ],
      "source": [
        "# example data point after normlizing\n",
        "print(X_train[0])"
      ]
    },
    {
      "cell_type": "code",
      "execution_count": null,
      "metadata": {
        "colab": {
          "base_uri": "https://localhost:8080/",
          "height": 52
        },
        "id": "3Ruu-vXzQKbi",
        "outputId": "7fb7591e-9f2d-4746-9d5c-fe488ee0a580"
      },
      "outputs": [
        {
          "name": "stdout",
          "output_type": "stream",
          "text": [
            "Class label of first image : 5\n",
            "After converting the output into a vector :  [0. 0. 0. 0. 0. 1. 0. 0. 0. 0.]\n"
          ]
        }
      ],
      "source": [
        "# here we are having a class number for each image\n",
        "print(\"Class label of first image :\", y_train[0])\n",
        "\n",
        "# lets convert this into a 10 dimensional vector\n",
        "# ex: consider an image is 5 convert it into 5 => [0, 0, 0, 0, 0, 1, 0, 0, 0, 0]\n",
        "# this conversion needed for MLPs \n",
        "\n",
        "Y_train = np_utils.to_categorical(y_train, 10) \n",
        "Y_test = np_utils.to_categorical(y_test, 10)\n",
        "\n",
        "print(\"After converting the output into a vector : \",Y_train[0])"
      ]
    },
    {
      "cell_type": "markdown",
      "metadata": {
        "id": "u0pWB6UyQKbk"
      },
      "source": [
        "## Model I"
      ]
    },
    {
      "cell_type": "code",
      "execution_count": null,
      "metadata": {
        "collapsed": true,
        "id": "tLAGMubCQKbm"
      },
      "outputs": [],
      "source": [
        "\n",
        "\n",
        "from keras.models import Sequential \n",
        "from keras.layers import Dense, Activation \n"
      ]
    },
    {
      "cell_type": "code",
      "execution_count": null,
      "metadata": {
        "collapsed": true,
        "id": "I0s7jzhVQKbn"
      },
      "outputs": [],
      "source": [
        "# some model parameters\n",
        "\n",
        "output_dim = 10  ## class labels in one hot encoding since we use softmax classifier \n",
        "input_dim = X_train.shape[1]\n",
        "\n",
        "batch_size = 128 \n",
        "nb_epoch = 20"
      ]
    },
    {
      "cell_type": "code",
      "execution_count": null,
      "metadata": {
        "colab": {
          "base_uri": "https://localhost:8080/",
          "height": 382
        },
        "id": "HdQg5wGDQKbr",
        "outputId": "ebc81cb9-089b-411c-9ec4-24b81c9535eb"
      },
      "outputs": [
        {
          "name": "stdout",
          "output_type": "stream",
          "text": [
            "_________________________________________________________________\n",
            "Layer (type)                 Output Shape              Param #   \n",
            "=================================================================\n",
            "dense_41 (Dense)             (None, 256)               200960    \n",
            "_________________________________________________________________\n",
            "batch_normalization_28 (Batc (None, 256)               1024      \n",
            "_________________________________________________________________\n",
            "dropout_27 (Dropout)         (None, 256)               0         \n",
            "_________________________________________________________________\n",
            "dense_42 (Dense)             (None, 64)                16448     \n",
            "_________________________________________________________________\n",
            "batch_normalization_29 (Batc (None, 64)                256       \n",
            "_________________________________________________________________\n",
            "dropout_28 (Dropout)         (None, 64)                0         \n",
            "_________________________________________________________________\n",
            "dense_43 (Dense)             (None, 10)                650       \n",
            "=================================================================\n",
            "Total params: 219,338\n",
            "Trainable params: 218,698\n",
            "Non-trainable params: 640\n",
            "_________________________________________________________________\n"
          ]
        }
      ],
      "source": [
        "# start building a model\n",
        "from keras.layers.normalization import BatchNormalization\n",
        "from keras.layers import Dropout\n",
        "model = Sequential()\n",
        "model.add(Dense(256, activation='relu', input_shape=(input_dim,), kernel_initializer=RandomNormal(mean=0.0, stddev=0.039, seed=None)))\n",
        "model.add(BatchNormalization())\n",
        "model.add(Dropout(0.6))\n",
        "model.add(Dense(64, activation='relu', kernel_initializer=RandomNormal(mean=0.0, stddev=0.55, seed=None)) )\n",
        "model.add(BatchNormalization())\n",
        "model.add(Dropout(0.6))\n",
        "model.add(Dense(output_dim, activation='softmax'))\n",
        "model.summary()"
      ]
    },
    {
      "cell_type": "code",
      "execution_count": null,
      "metadata": {
        "colab": {
          "base_uri": "https://localhost:8080/",
          "height": 729
        },
        "id": "FGEXpf4vaC_F",
        "outputId": "c8da2e0f-7982-42ea-dc78-f1f35768fcbf"
      },
      "outputs": [
        {
          "name": "stdout",
          "output_type": "stream",
          "text": [
            "Train on 60000 samples, validate on 10000 samples\n",
            "Epoch 1/20\n",
            "60000/60000 [==============================] - 5s 86us/step - loss: 1.3384 - acc: 0.5710 - val_loss: 0.4700 - val_acc: 0.8806\n",
            "Epoch 2/20\n",
            "60000/60000 [==============================] - 3s 45us/step - loss: 0.8326 - acc: 0.7328 - val_loss: 0.3819 - val_acc: 0.9019\n",
            "Epoch 3/20\n",
            "60000/60000 [==============================] - 3s 48us/step - loss: 0.7109 - acc: 0.7777 - val_loss: 0.3335 - val_acc: 0.9111\n",
            "Epoch 4/20\n",
            "60000/60000 [==============================] - 3s 49us/step - loss: 0.6468 - acc: 0.8006 - val_loss: 0.3034 - val_acc: 0.9163\n",
            "Epoch 5/20\n",
            "60000/60000 [==============================] - 3s 49us/step - loss: 0.6001 - acc: 0.8165 - val_loss: 0.2800 - val_acc: 0.9234\n",
            "Epoch 6/20\n",
            "60000/60000 [==============================] - 3s 49us/step - loss: 0.5661 - acc: 0.8264 - val_loss: 0.2621 - val_acc: 0.9270\n",
            "Epoch 7/20\n",
            "60000/60000 [==============================] - 3s 46us/step - loss: 0.5369 - acc: 0.8367 - val_loss: 0.2496 - val_acc: 0.9294\n",
            "Epoch 8/20\n",
            "60000/60000 [==============================] - 3s 45us/step - loss: 0.5116 - acc: 0.8450 - val_loss: 0.2365 - val_acc: 0.9315\n",
            "Epoch 9/20\n",
            "60000/60000 [==============================] - 3s 44us/step - loss: 0.4917 - acc: 0.8520 - val_loss: 0.2255 - val_acc: 0.9342\n",
            "Epoch 10/20\n",
            "60000/60000 [==============================] - 3s 44us/step - loss: 0.4782 - acc: 0.8552 - val_loss: 0.2160 - val_acc: 0.9358\n",
            "Epoch 11/20\n",
            "60000/60000 [==============================] - 3s 44us/step - loss: 0.4647 - acc: 0.8606 - val_loss: 0.2098 - val_acc: 0.9384\n",
            "Epoch 12/20\n",
            "60000/60000 [==============================] - 3s 45us/step - loss: 0.4521 - acc: 0.8655 - val_loss: 0.2026 - val_acc: 0.9411\n",
            "Epoch 13/20\n",
            "60000/60000 [==============================] - 3s 44us/step - loss: 0.4386 - acc: 0.8697 - val_loss: 0.1983 - val_acc: 0.9410\n",
            "Epoch 14/20\n",
            "60000/60000 [==============================] - 3s 45us/step - loss: 0.4313 - acc: 0.8716 - val_loss: 0.1946 - val_acc: 0.9416\n",
            "Epoch 15/20\n",
            "60000/60000 [==============================] - 3s 44us/step - loss: 0.4200 - acc: 0.8754 - val_loss: 0.1888 - val_acc: 0.9442\n",
            "Epoch 16/20\n",
            "60000/60000 [==============================] - 3s 44us/step - loss: 0.4159 - acc: 0.8766 - val_loss: 0.1852 - val_acc: 0.9451\n",
            "Epoch 17/20\n",
            "60000/60000 [==============================] - 3s 44us/step - loss: 0.4034 - acc: 0.8808 - val_loss: 0.1807 - val_acc: 0.9466\n",
            "Epoch 18/20\n",
            "60000/60000 [==============================] - 3s 44us/step - loss: 0.4003 - acc: 0.8811 - val_loss: 0.1773 - val_acc: 0.9474\n",
            "Epoch 19/20\n",
            "60000/60000 [==============================] - 3s 44us/step - loss: 0.3916 - acc: 0.8853 - val_loss: 0.1759 - val_acc: 0.9478\n",
            "Epoch 20/20\n",
            "60000/60000 [==============================] - 3s 44us/step - loss: 0.3860 - acc: 0.8854 - val_loss: 0.1726 - val_acc: 0.9488\n"
          ]
        }
      ],
      "source": [
        "model.compile(optimizer='sgd', loss='categorical_crossentropy', metrics=['accuracy'])\n",
        "history = model.fit(X_train, Y_train, batch_size=batch_size, epochs=nb_epoch, verbose=1, validation_data=(X_test, Y_test)) "
      ]
    },
    {
      "cell_type": "code",
      "execution_count": null,
      "metadata": {
        "colab": {
          "base_uri": "https://localhost:8080/",
          "height": 434
        },
        "id": "RYb7sD0hbTzZ",
        "outputId": "d9be3e2c-8f86-4b4b-a7fb-b3e009706fb3"
      },
      "outputs": [
        {
          "name": "stdout",
          "output_type": "stream",
          "text": [
            "Test score: 0.1725615408781916\n",
            "Test accuracy: 0.9488\n",
            "inside of plt\n"
          ]
        },
        {
          "data": {
            "image/png": "[encoded data removed]",
            "text/plain": [
              "<Figure size 720x360 with 1 Axes>"
            ]
          },
          "metadata": {
            "tags": []
          },
          "output_type": "display_data"
        },
        {
          "name": "stdout",
          "output_type": "stream",
          "text": [
            "leaving the plt\n"
          ]
        }
      ],
      "source": [
        "score = model.evaluate(X_test, Y_test, verbose=0) \n",
        "x = list(range(1,nb_epoch+1))\n",
        "\n",
        "print('Test score:', score[0]) \n",
        "print('Test accuracy:', score[1])\n",
        "train_acc_1  = history.history['acc']\n",
        "val_acc_1    = history.history['val_acc']\n",
        "vy_1 = history.history['val_loss']\n",
        "ty_1 = history.history['loss']\n",
        "plt_dynamic(x, vy_1, ty_1)"
      ]
    },
    {
      "cell_type": "markdown",
      "metadata": {
        "id": "3T6EXN2rkiXE"
      },
      "source": [
        "## Model II"
      ]
    },
    {
      "cell_type": "code",
      "execution_count": null,
      "metadata": {
        "colab": {
          "base_uri": "https://localhost:8080/",
          "height": 486
        },
        "id": "lRwAMMz7khSD",
        "outputId": "5b54112c-e40d-439a-8246-5ee6e5a5bbb3"
      },
      "outputs": [
        {
          "name": "stdout",
          "output_type": "stream",
          "text": [
            "_________________________________________________________________\n",
            "Layer (type)                 Output Shape              Param #   \n",
            "=================================================================\n",
            "dense_44 (Dense)             (None, 256)               200960    \n",
            "_________________________________________________________________\n",
            "batch_normalization_30 (Batc (None, 256)               1024      \n",
            "_________________________________________________________________\n",
            "dropout_29 (Dropout)         (None, 256)               0         \n",
            "_________________________________________________________________\n",
            "dense_45 (Dense)             (None, 64)                16448     \n",
            "_________________________________________________________________\n",
            "batch_normalization_31 (Batc (None, 64)                256       \n",
            "_________________________________________________________________\n",
            "dropout_30 (Dropout)         (None, 64)                0         \n",
            "_________________________________________________________________\n",
            "dense_46 (Dense)             (None, 32)                2080      \n",
            "_________________________________________________________________\n",
            "batch_normalization_32 (Batc (None, 32)                128       \n",
            "_________________________________________________________________\n",
            "dropout_31 (Dropout)         (None, 32)                0         \n",
            "_________________________________________________________________\n",
            "dense_47 (Dense)             (None, 10)                330       \n",
            "=================================================================\n",
            "Total params: 221,226\n",
            "Trainable params: 220,522\n",
            "Non-trainable params: 704\n",
            "_________________________________________________________________\n"
          ]
        }
      ],
      "source": [
        "# start building a model\n",
        "model_ii = Sequential()\n",
        "model_ii.add(Dense(256, activation='relu', input_shape=(input_dim,), kernel_initializer=RandomNormal(mean=0.0, stddev=0.039, seed=None)))\n",
        "model_ii.add(BatchNormalization())\n",
        "model_ii.add(Dropout(0.6))\n",
        "model_ii.add(Dense(64, activation='relu', kernel_initializer=RandomNormal(mean=0.0, stddev=0.55, seed=None)) )\n",
        "model_ii.add(BatchNormalization())\n",
        "model_ii.add(Dropout(0.6))\n",
        "model_ii.add(Dense(32, activation='relu', kernel_initializer=RandomNormal(mean=0.0, stddev=0.55, seed=None)) )\n",
        "model_ii.add(BatchNormalization())\n",
        "model_ii.add(Dropout(0.6))\n",
        "model_ii.add(Dense(output_dim, activation='softmax'))\n",
        "model_ii.summary()"
      ]
    },
    {
      "cell_type": "code",
      "execution_count": null,
      "metadata": {
        "colab": {
          "base_uri": "https://localhost:8080/",
          "height": 729
        },
        "id": "OMnbJI-Cld8J",
        "outputId": "4cae5355-6a5c-4e4f-b99f-cea745781786"
      },
      "outputs": [
        {
          "name": "stdout",
          "output_type": "stream",
          "text": [
            "Train on 60000 samples, validate on 10000 samples\n",
            "Epoch 1/20\n",
            "60000/60000 [==============================] - 6s 100us/step - loss: 2.1254 - acc: 0.3037 - val_loss: 1.0796 - val_acc: 0.7781\n",
            "Epoch 2/20\n",
            "60000/60000 [==============================] - 3s 54us/step - loss: 1.5937 - acc: 0.4411 - val_loss: 0.9140 - val_acc: 0.8221\n",
            "Epoch 3/20\n",
            "60000/60000 [==============================] - 3s 55us/step - loss: 1.4277 - acc: 0.5027 - val_loss: 0.7949 - val_acc: 0.8482\n",
            "Epoch 4/20\n",
            "60000/60000 [==============================] - 3s 54us/step - loss: 1.3344 - acc: 0.5391 - val_loss: 0.7024 - val_acc: 0.8649\n",
            "Epoch 5/20\n",
            "60000/60000 [==============================] - 3s 54us/step - loss: 1.2575 - acc: 0.5681 - val_loss: 0.6348 - val_acc: 0.8767\n",
            "Epoch 6/20\n",
            "60000/60000 [==============================] - 3s 54us/step - loss: 1.2097 - acc: 0.5827 - val_loss: 0.5825 - val_acc: 0.8831\n",
            "Epoch 7/20\n",
            "60000/60000 [==============================] - 3s 54us/step - loss: 1.1603 - acc: 0.6004 - val_loss: 0.5353 - val_acc: 0.8909\n",
            "Epoch 8/20\n",
            "60000/60000 [==============================] - 3s 54us/step - loss: 1.1140 - acc: 0.6196 - val_loss: 0.4988 - val_acc: 0.8912\n",
            "Epoch 9/20\n",
            "60000/60000 [==============================] - 3s 56us/step - loss: 1.0853 - acc: 0.6300 - val_loss: 0.4663 - val_acc: 0.8981\n",
            "Epoch 10/20\n",
            "60000/60000 [==============================] - 4s 61us/step - loss: 1.0511 - acc: 0.6451 - val_loss: 0.4414 - val_acc: 0.9001\n",
            "Epoch 11/20\n",
            "60000/60000 [==============================] - 4s 62us/step - loss: 1.0229 - acc: 0.6515 - val_loss: 0.4148 - val_acc: 0.9044\n",
            "Epoch 12/20\n",
            "60000/60000 [==============================] - 3s 57us/step - loss: 0.9967 - acc: 0.6635 - val_loss: 0.3984 - val_acc: 0.9057\n",
            "Epoch 13/20\n",
            "60000/60000 [==============================] - 3s 54us/step - loss: 0.9712 - acc: 0.6745 - val_loss: 0.3776 - val_acc: 0.9098\n",
            "Epoch 14/20\n",
            "60000/60000 [==============================] - 3s 54us/step - loss: 0.9506 - acc: 0.6821 - val_loss: 0.3684 - val_acc: 0.9099\n",
            "Epoch 15/20\n",
            "60000/60000 [==============================] - 3s 54us/step - loss: 0.9344 - acc: 0.6879 - val_loss: 0.3557 - val_acc: 0.9147\n",
            "Epoch 16/20\n",
            "60000/60000 [==============================] - 3s 53us/step - loss: 0.9176 - acc: 0.6946 - val_loss: 0.3433 - val_acc: 0.9169\n",
            "Epoch 17/20\n",
            "60000/60000 [==============================] - 3s 53us/step - loss: 0.8880 - acc: 0.7026 - val_loss: 0.3295 - val_acc: 0.9194\n",
            "Epoch 18/20\n",
            "60000/60000 [==============================] - 3s 54us/step - loss: 0.8843 - acc: 0.7083 - val_loss: 0.3203 - val_acc: 0.9204\n",
            "Epoch 19/20\n",
            "60000/60000 [==============================] - 3s 53us/step - loss: 0.8712 - acc: 0.7154 - val_loss: 0.3126 - val_acc: 0.9230\n",
            "Epoch 20/20\n",
            "60000/60000 [==============================] - 3s 54us/step - loss: 0.8519 - acc: 0.7176 - val_loss: 0.3036 - val_acc: 0.9237\n"
          ]
        }
      ],
      "source": [
        "model_ii.compile(optimizer='sgd', loss='categorical_crossentropy', metrics=['accuracy'])\n",
        "history = model_ii.fit(X_train, Y_train, batch_size=batch_size, epochs=nb_epoch, verbose=1, validation_data=(X_test, Y_test)) "
      ]
    },
    {
      "cell_type": "code",
      "execution_count": null,
      "metadata": {
        "colab": {
          "base_uri": "https://localhost:8080/",
          "height": 434
        },
        "id": "IJV66noelp_6",
        "outputId": "1fa0df51-ea99-4fde-b9e1-e2d47de27979"
      },
      "outputs": [
        {
          "name": "stdout",
          "output_type": "stream",
          "text": [
            "Test score: 0.3036018749833107\n",
            "Test accuracy: 0.9237\n",
            "inside of plt\n"
          ]
        },
        {
          "data": {
            "image/png": "[encoded data removed]",
            "text/plain": [
              "<Figure size 720x360 with 1 Axes>"
            ]
          },
          "metadata": {
            "tags": []
          },
          "output_type": "display_data"
        },
        {
          "name": "stdout",
          "output_type": "stream",
          "text": [
            "leaving the plt\n"
          ]
        }
      ],
      "source": [
        "score = model_ii.evaluate(X_test, Y_test, verbose=0) \n",
        "print('Test score:', score[0]) \n",
        "print('Test accuracy:', score[1])\n",
        "x = list(range(1,nb_epoch+1))\n",
        "train_acc_1  = history.history['acc']\n",
        "val_acc_1    = history.history['val_acc']\n",
        "vy_1 = history.history['val_loss']\n",
        "ty_1 = history.history['loss']\n",
        "plt_dynamic(x, vy_1, ty_1)"
      ]
    },
    {
      "cell_type": "markdown",
      "metadata": {
        "id": "UFRUHI7il_TM"
      },
      "source": [
        "## Model III"
      ]
    },
    {
      "cell_type": "code",
      "execution_count": null,
      "metadata": {
        "colab": {
          "base_uri": "https://localhost:8080/",
          "height": 694
        },
        "id": "zF4royK9mCrq",
        "outputId": "2bc4fe3f-3f9f-4efa-d83b-2774ab253e77"
      },
      "outputs": [
        {
          "name": "stdout",
          "output_type": "stream",
          "text": [
            "_________________________________________________________________\n",
            "Layer (type)                 Output Shape              Param #   \n",
            "=================================================================\n",
            "dense_48 (Dense)             (None, 512)               401920    \n",
            "_________________________________________________________________\n",
            "batch_normalization_33 (Batc (None, 512)               2048      \n",
            "_________________________________________________________________\n",
            "dropout_32 (Dropout)         (None, 512)               0         \n",
            "_________________________________________________________________\n",
            "dense_49 (Dense)             (None, 256)               131328    \n",
            "_________________________________________________________________\n",
            "batch_normalization_34 (Batc (None, 256)               1024      \n",
            "_________________________________________________________________\n",
            "dropout_33 (Dropout)         (None, 256)               0         \n",
            "_________________________________________________________________\n",
            "dense_50 (Dense)             (None, 128)               32896     \n",
            "_________________________________________________________________\n",
            "batch_normalization_35 (Batc (None, 128)               512       \n",
            "_________________________________________________________________\n",
            "dropout_34 (Dropout)         (None, 128)               0         \n",
            "_________________________________________________________________\n",
            "dense_51 (Dense)             (None, 64)                8256      \n",
            "_________________________________________________________________\n",
            "batch_normalization_36 (Batc (None, 64)                256       \n",
            "_________________________________________________________________\n",
            "dropout_35 (Dropout)         (None, 64)                0         \n",
            "_________________________________________________________________\n",
            "dense_52 (Dense)             (None, 32)                2080      \n",
            "_________________________________________________________________\n",
            "batch_normalization_37 (Batc (None, 32)                128       \n",
            "_________________________________________________________________\n",
            "dropout_36 (Dropout)         (None, 32)                0         \n",
            "_________________________________________________________________\n",
            "dense_53 (Dense)             (None, 10)                330       \n",
            "=================================================================\n",
            "Total params: 580,778\n",
            "Trainable params: 578,794\n",
            "Non-trainable params: 1,984\n",
            "_________________________________________________________________\n"
          ]
        }
      ],
      "source": [
        "model_iii = Sequential()\n",
        "model_iii.add(Dense(512, activation='relu', input_shape=(input_dim,), kernel_initializer=RandomNormal(mean=0.0, stddev=0.039, seed=None)))\n",
        "model_iii.add(BatchNormalization())\n",
        "model_iii.add(Dropout(0.6))\n",
        "model_iii.add(Dense(256, activation='relu', kernel_initializer=RandomNormal(mean=0.0, stddev=0.55, seed=None)) )\n",
        "model_iii.add(BatchNormalization())\n",
        "model_iii.add(Dropout(0.6))\n",
        "model_iii.add(Dense(128, activation='relu', kernel_initializer=RandomNormal(mean=0.0, stddev=0.55, seed=None)) )\n",
        "model_iii.add(BatchNormalization())\n",
        "model_iii.add(Dropout(0.6))\n",
        "model_iii.add(Dense(64, activation='relu', kernel_initializer=RandomNormal(mean=0.0, stddev=0.55, seed=None)) )\n",
        "model_iii.add(BatchNormalization())\n",
        "model_iii.add(Dropout(0.6))\n",
        "model_iii.add(Dense(32, activation='relu', kernel_initializer=RandomNormal(mean=0.0, stddev=0.55, seed=None)) )\n",
        "model_iii.add(BatchNormalization())\n",
        "model_iii.add(Dropout(0.6))\n",
        "model_iii.add(Dense(output_dim, activation='softmax'))\n",
        "model_iii.summary()"
      ]
    },
    {
      "cell_type": "code",
      "execution_count": null,
      "metadata": {
        "colab": {
          "base_uri": "https://localhost:8080/",
          "height": 729
        },
        "id": "Vst0FD3RmpsD",
        "outputId": "42d614bb-20f8-43d7-fcb7-fc04dc090d24"
      },
      "outputs": [
        {
          "name": "stdout",
          "output_type": "stream",
          "text": [
            "Train on 60000 samples, validate on 10000 samples\n",
            "Epoch 1/20\n",
            "60000/60000 [==============================] - 8s 129us/step - loss: 2.7938 - acc: 0.1265 - val_loss: 2.1717 - val_acc: 0.1842\n",
            "Epoch 2/20\n",
            "60000/60000 [==============================] - 4s 73us/step - loss: 2.3062 - acc: 0.1661 - val_loss: 2.1511 - val_acc: 0.1267\n",
            "Epoch 3/20\n",
            "60000/60000 [==============================] - 4s 72us/step - loss: 2.1904 - acc: 0.1977 - val_loss: 2.1221 - val_acc: 0.1258\n",
            "Epoch 4/20\n",
            "60000/60000 [==============================] - 4s 73us/step - loss: 2.1283 - acc: 0.2183 - val_loss: 2.0953 - val_acc: 0.1363\n",
            "Epoch 5/20\n",
            "60000/60000 [==============================] - 4s 73us/step - loss: 2.0897 - acc: 0.2333 - val_loss: 2.0587 - val_acc: 0.1497\n",
            "Epoch 6/20\n",
            "60000/60000 [==============================] - 4s 73us/step - loss: 2.0488 - acc: 0.2466 - val_loss: 2.0115 - val_acc: 0.1682\n",
            "Epoch 7/20\n",
            "60000/60000 [==============================] - 4s 73us/step - loss: 2.0138 - acc: 0.2579 - val_loss: 1.9623 - val_acc: 0.1812\n",
            "Epoch 8/20\n",
            "60000/60000 [==============================] - 4s 73us/step - loss: 1.9796 - acc: 0.2713 - val_loss: 1.9213 - val_acc: 0.1970\n",
            "Epoch 9/20\n",
            "60000/60000 [==============================] - 5s 77us/step - loss: 1.9452 - acc: 0.2778 - val_loss: 1.8663 - val_acc: 0.2289\n",
            "Epoch 10/20\n",
            "60000/60000 [==============================] - 5s 84us/step - loss: 1.9162 - acc: 0.2898 - val_loss: 1.8077 - val_acc: 0.2505\n",
            "Epoch 11/20\n",
            "60000/60000 [==============================] - 5s 78us/step - loss: 1.8824 - acc: 0.3022 - val_loss: 1.7499 - val_acc: 0.2726\n",
            "Epoch 12/20\n",
            "60000/60000 [==============================] - 4s 74us/step - loss: 1.8669 - acc: 0.3042 - val_loss: 1.7114 - val_acc: 0.2972\n",
            "Epoch 13/20\n",
            "60000/60000 [==============================] - 4s 73us/step - loss: 1.8336 - acc: 0.3177 - val_loss: 1.6637 - val_acc: 0.3079\n",
            "Epoch 14/20\n",
            "60000/60000 [==============================] - 4s 74us/step - loss: 1.8089 - acc: 0.3253 - val_loss: 1.6244 - val_acc: 0.3440\n",
            "Epoch 15/20\n",
            "60000/60000 [==============================] - 4s 74us/step - loss: 1.7792 - acc: 0.3348 - val_loss: 1.5745 - val_acc: 0.3624\n",
            "Epoch 16/20\n",
            "60000/60000 [==============================] - 4s 73us/step - loss: 1.7589 - acc: 0.3391 - val_loss: 1.5440 - val_acc: 0.3722\n",
            "Epoch 17/20\n",
            "60000/60000 [==============================] - 4s 73us/step - loss: 1.7341 - acc: 0.3508 - val_loss: 1.4959 - val_acc: 0.3984\n",
            "Epoch 18/20\n",
            "60000/60000 [==============================] - 4s 73us/step - loss: 1.7138 - acc: 0.3583 - val_loss: 1.4586 - val_acc: 0.4240\n",
            "Epoch 19/20\n",
            "60000/60000 [==============================] - 4s 73us/step - loss: 1.6830 - acc: 0.3645 - val_loss: 1.4181 - val_acc: 0.4519\n",
            "Epoch 20/20\n",
            "60000/60000 [==============================] - 4s 73us/step - loss: 1.6677 - acc: 0.3729 - val_loss: 1.3932 - val_acc: 0.4544\n"
          ]
        }
      ],
      "source": [
        "model_iii.compile(optimizer='sgd', loss='categorical_crossentropy', metrics=['accuracy'])\n",
        "history = model_iii.fit(X_train, Y_train, batch_size=batch_size, epochs=nb_epoch, verbose=1, validation_data=(X_test, Y_test)) "
      ]
    },
    {
      "cell_type": "code",
      "execution_count": null,
      "metadata": {
        "colab": {
          "base_uri": "https://localhost:8080/",
          "height": 434
        },
        "id": "w0Ejfh1pmx1b",
        "outputId": "0bdefa72-c150-46f4-9dbd-da0bcdf90f1b"
      },
      "outputs": [
        {
          "name": "stdout",
          "output_type": "stream",
          "text": [
            "Test score: 1.393195158958435\n",
            "Test accuracy: 0.4544\n",
            "inside of plt\n"
          ]
        },
        {
          "data": {
            "image/png": "[encoded data removed]",
            "text/plain": [
              "<Figure size 720x360 with 1 Axes>"
            ]
          },
          "metadata": {
            "tags": []
          },
          "output_type": "display_data"
        },
        {
          "name": "stdout",
          "output_type": "stream",
          "text": [
            "leaving the plt\n"
          ]
        }
      ],
      "source": [
        "score = model_iii.evaluate(X_test, Y_test, verbose=0) \n",
        "print('Test score:', score[0]) \n",
        "print('Test accuracy:', score[1])\n",
        "x = list(range(1,nb_epoch+1))\n",
        "train_acc_1  = history.history['acc']\n",
        "val_acc_1    = history.history['val_acc']\n",
        "vy_1 = history.history['val_loss']\n",
        "ty_1 = history.history['loss']\n",
        "plt_dynamic(x, vy_1, ty_1)"
      ]
    },
    {
      "cell_type": "code",
      "execution_count": null,
      "metadata": {
        "colab": {
          "base_uri": "https://localhost:8080/",
          "height": 260
        },
        "id": "T_RQ9SyX1lh3",
        "outputId": "ab5ee4f3-ddff-4b1f-a0e1-af9d29d681a7"
      },
      "outputs": [
        {
          "name": "stdout",
          "output_type": "stream",
          "text": [
            "+------+------------------+-------------------------------------------------+----------------+---------------------+\n",
            "| S.NO | #f Hidden Layers |                Model Description                | Train Accuracy | Validation Accuracy |\n",
            "+------+------------------+-------------------------------------------------+----------------+---------------------+\n",
            "|  1   |        2         |                256-BN-DR-64-BN_DR               |     88.54      |        94.89        |\n",
            "|  2   |        3         |           256-BN-DR-64-BN_DR-32-BN_DR           |     71.76      |        92.37        |\n",
            "|  3   |        5         | 512-BN-DR-256-BN-DR-128-BN-DR-64-BN-DR-32-BN-DR |     37.29      |        45.44        |\n",
            "+------+------------------+-------------------------------------------------+----------------+---------------------+\n",
            "----------------------------------------\n",
            "---------- Conventions -----------------\n",
            "----------------------------------------\n",
            "\"BN\" means Batch Normalization layer\n",
            "\"DR\" means Dropout rate layer\n",
            "----------------------------------------\n",
            "----------------------------------------\n"
          ]
        }
      ],
      "source": [
        "from prettytable import PrettyTable\n",
        "x = PrettyTable()\n",
        "x.add_column(\"S.NO\",[1,2,3])\n",
        "x.add_column(\"#f Hidden Layers\",[2,3,5])\n",
        "x.add_column(\"Model Description\",[\"256-BN-DR-64-BN_DR\",\"256-BN-DR-64-BN_DR-32-BN_DR\",\"512-BN-DR-256-BN-DR-128-BN-DR-64-BN-DR-32-BN-DR\"])\n",
        "x.add_column(\"Train Accuracy\",[\"88.54\",\"71.76\",\"37.29\"])\n",
        "x.add_column(\"Validation Accuracy\",[\"94.89\" ,\"92.37\",\"45.44\" ])\n",
        "print(x)\n",
        "print(\"----------------------------------------\")\n",
        "print(\"---------- Conventions -----------------\")\n",
        "print(\"----------------------------------------\")\n",
        "print(\"\\\"BN\\\" means Batch Normalization layer\")\n",
        "print(\"\\\"DR\\\" means Dropout rate layer\")\n",
        "print(\"----------------------------------------\")\n",
        "print(\"----------------------------------------\")"
      ]
    },
    {
      "cell_type": "markdown",
      "metadata": {
        "id": "HJKPJpbPUTFU"
      },
      "source": [
        "** Note ** : Model III is deep network and tends to overfit easily because <br>\n",
        "                     1: Less data points compare to the depth of network <br>\n",
        "                     2: Number in each hidden layer is very high, require hyperparameter tuning."
      ]
    }
  ],
  "metadata": {
    "accelerator": "GPU",
    "colab": {
      "collapsed_sections": [],
      "name": "MNIST_MLPs.ipynb",
      "provenance": [],
      "include_colab_link": true
    },
    "kernelspec": {
      "display_name": "Python 3",
      "language": "python",
      "name": "python3"
    },
    "language_info": {
      "codemirror_mode": {
        "name": "ipython",
        "version": 3
      },
      "file_extension": ".py",
      "mimetype": "text/x-python",
      "name": "python",
      "nbconvert_exporter": "python",
      "pygments_lexer": "ipython3",
      "version": "3.6.3"
    }
  },
  "nbformat": 4,
  "nbformat_minor": 0
}